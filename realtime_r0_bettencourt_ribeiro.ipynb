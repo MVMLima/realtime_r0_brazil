{
 "cells": [
  {
   "cell_type": "markdown",
   "metadata": {},
   "source": [
    "# realtime_r0_bettencourt_ribeiro\n",
    "\n",
    "\n",
    "## Visualizando a evolução do número de reprodução no Brasil (metodologia Bettencourt & Ribeiro)\n",
    "\n",
    "Vamos reproduzir o [modelo do Kevin Systrom](http://systrom.com/blog/the-metric-we-need-to-manage-covid-19/), baseado no artigo de [Bettencourt & Ribeiro](https://journals.plos.org/plosone/article?id=10.1371/journal.pone.0002185), para estimarmos $R_t$, o número de reprodução eficaz, para os estados brasileiros."
   ]
  },
  {
   "cell_type": "markdown",
   "metadata": {},
   "source": [
    "Começamos importando as bibliotecas necessárias. Condensamos boa parte do código no script `core.py`, para facilitar a utilização desse notebook."
   ]
  },
  {
   "cell_type": "code",
   "execution_count": 1,
   "metadata": {},
   "outputs": [
    {
     "name": "stderr",
     "output_type": "stream",
     "text": [
      "\n",
      "Bad key \"axes.titlelocation\" on line 298 in\n",
      "/Users/guilherme.marmerola/Documents/Repositories/realtime_r0_brazil/matplotlibrc.\n",
      "You probably need to get an updated matplotlibrc file from\n",
      "https://github.com/matplotlib/matplotlib/blob/v3.1.3/matplotlibrc.template\n",
      "or from the matplotlib source distribution\n"
     ]
    }
   ],
   "source": [
    "# importing core \n",
    "# aqui empacotamos as funções que dá pra achar no código do Kevin Systrom\n",
    "from core import run_full_model, load_data, plot_rt, plot_standings\n",
    "\n",
    "# imports básicos\n",
    "import numpy as np\n",
    "import pandas as pd\n",
    "from matplotlib import pyplot as plt\n",
    "\n",
    "# importando joblib para rodar em paralelo\n",
    "from joblib import Parallel, delayed\n",
    "\n",
    "# para plots com uma melhor resolução\n",
    "%config InlineBackend.figure_format = 'retina'"
   ]
  },
  {
   "cell_type": "markdown",
   "metadata": {},
   "source": [
    "Área reservada para parâmetros do modelo. Até agora só deixamos aberto `N_JOBS`, para escolher o número de núvleos para o ajuste dos modelos."
   ]
  },
  {
   "cell_type": "code",
   "execution_count": 2,
   "metadata": {},
   "outputs": [],
   "source": [
    "### parâmetros ###\n",
    "\n",
    "# númreo de cores para paralelizar modelo nos estados\n",
    "N_JOBS = -1"
   ]
  },
  {
   "cell_type": "markdown",
   "metadata": {},
   "source": [
    "### Leitura dos dados\n",
    "\n",
    "Usamos o [repositório do Wesley Cota](https://github.com/wcota/covid19br) para pegar os dados mais atualizados por estado. "
   ]
  },
  {
   "cell_type": "code",
   "execution_count": 3,
   "metadata": {},
   "outputs": [],
   "source": [
    "### reading data ###\n",
    "\n",
    "# lendo do repositório do Wesley Cota\n",
    "city_df, state_df = load_data()\n",
    "\n",
    "# para a análise, vamos usar somente novos casos confirmados\n",
    "city_df = city_df['confirmed_new']\n",
    "state_df = state_df['deaths_new']"
   ]
  },
  {
   "cell_type": "markdown",
   "metadata": {},
   "source": [
    "### Ajuste do modelo\n",
    "\n",
    "Ajustamos um modelo bayesiano simples, assumindo que os dados de novos casos assumem uma distribuição Poisson parametrizada por $\\lambda$ e a seguinte fórmula para a conexão entre $R_t$ e $\\lambda$ ([segundo este artigo](https://journals.plos.org/plosone/article?id=10.1371/journal.pone.0002185)):\n",
    "\n",
    "$$ \\lambda = k_{t-1}e^{\\gamma(R_t-1)}$$\n",
    "\n",
    "onde $\\gamma$ é a recíproca do *serial interval* ([em torno de 7 dias para o COVID19](https://wwwnc.cdc.gov/eid/article/26/7/20-0282_article)) e $k_{t-1}$ é o número de novos casos para o dia anterior. Abaixo rodamos a função `run_full_model` para todos os estados em paralelo. Mais detalhes no [notebook do Kevin](https://github.com/k-sys/covid-19/blob/master/Realtime%20R0.ipynb)."
   ]
  },
  {
   "cell_type": "code",
   "execution_count": null,
   "metadata": {},
   "outputs": [],
   "source": [
    "### running posteriors ###\n",
    "\n",
    "with Parallel(n_jobs=N_JOBS) as parallel:\n",
    "    results = parallel(delayed(run_full_model)(grp[1], sigma=0.01) for grp in state_df.groupby(level='state'))\n",
    "\n",
    "final_results = pd.concat(results)"
   ]
  },
  {
   "cell_type": "markdown",
   "metadata": {},
   "source": [
    "### Observando os resultados: $R_t$\n",
    "\n",
    "Usamos o mesmo padrão de visualização adotado pelo Kevin. Nos gráficos, cada ponto é a estimativa de $R_t$ para o dia, e a área cinzenta indica o intervalo crível de 90% de probabilidade. Deixamos $R = 1$ em evidência, já que quando $R_t < 1$ indica que a epidemia está sob controle."
   ]
  },
  {
   "cell_type": "code",
   "execution_count": null,
   "metadata": {},
   "outputs": [],
   "source": [
    "### plotting - Rt vs time for all states ###\n",
    "\n",
    "def plot_rt_states():\n",
    "\n",
    "    # number of columns and rows for plotting\n",
    "    N_COLS = 4\n",
    "    N_ROWS = int(np.ceil(len(results) / N_COLS))\n",
    "\n",
    "    # opening figura\n",
    "    fig, axes = plt.subplots(nrows=N_ROWS, ncols=N_COLS, figsize=(15, N_ROWS*3), dpi=90)\n",
    "\n",
    "    # loop for several states\n",
    "    for i, (state_name, result) in enumerate(final_results.groupby('state')):\n",
    "        plot_rt(result, axes.flat[i], state_name)\n",
    "\n",
    "    # saving figure\n",
    "    fig.tight_layout()\n",
    "    fig.set_facecolor('w')\n",
    "\n",
    "plot_rt_states()"
   ]
  },
  {
   "cell_type": "markdown",
   "metadata": {},
   "source": [
    "### Observando os resultados: comparação entre estados\n",
    "\n",
    "Para fazer uma comparação entre estados, mostramos a última estimativa de $R_t$ de cada estado no gráfico de barras a seguir, com a incerteza associada. Os gráficos estão ordenados do melhor para o pior usando a estimativa mais provável do modelo."
   ]
  },
  {
   "cell_type": "code",
   "execution_count": null,
   "metadata": {},
   "outputs": [],
   "source": [
    "### plotting - state comparison ###\n",
    "\n",
    "mr = final_results.groupby(level=0)[['ML', 'High_90', 'Low_90']].last()\n",
    "mr.sort_values('ML', inplace=True)\n",
    "plot_standings(mr, figsize=(13,5));"
   ]
  },
  {
   "cell_type": "markdown",
   "metadata": {},
   "source": [
    "Podemos ordenar também pelo pior caso possível também, usando nossas estimativas de incerteza:"
   ]
  },
  {
   "cell_type": "code",
   "execution_count": null,
   "metadata": {},
   "outputs": [],
   "source": [
    "### ordering by worst case ##\n",
    "\n",
    "mr.sort_values('High_90', inplace=True)\n",
    "plot_standings(mr, figsize=(13,5));"
   ]
  },
  {
   "cell_type": "markdown",
   "metadata": {},
   "source": [
    "### Zoom em um estado só"
   ]
  },
  {
   "cell_type": "code",
   "execution_count": null,
   "metadata": {},
   "outputs": [],
   "source": [
    "STATE_NAME = 'SP'\n",
    "\n",
    "series = state_df.loc[lambda x: x.index.get_level_values(0) == STATE_NAME]\n",
    "\n",
    "result = run_full_model(series, sigma=0.05)\n",
    "\n",
    "fig, ax = plt.subplots(figsize=(800/72,450/72), dpi=90)\n",
    "\n",
    "plot_rt(result, ax, state_name)\n",
    "fig.set_facecolor('w') \n",
    "ax.set_title(f'Real-time $R_t$ for {state_name}')"
   ]
  },
  {
   "cell_type": "code",
   "execution_count": null,
   "metadata": {},
   "outputs": [],
   "source": []
  }
 ],
 "metadata": {
  "kernelspec": {
   "display_name": "Python 3",
   "language": "python",
   "name": "python3"
  },
  "language_info": {
   "codemirror_mode": {
    "name": "ipython",
    "version": 3
   },
   "file_extension": ".py",
   "mimetype": "text/x-python",
   "name": "python",
   "nbconvert_exporter": "python",
   "pygments_lexer": "ipython3",
   "version": "3.7.3"
  },
  "toc": {
   "base_numbering": 1,
   "nav_menu": {},
   "number_sections": true,
   "sideBar": true,
   "skip_h1_title": false,
   "title_cell": "Table of Contents",
   "title_sidebar": "Contents",
   "toc_cell": false,
   "toc_position": {},
   "toc_section_display": true,
   "toc_window_display": false
  }
 },
 "nbformat": 4,
 "nbformat_minor": 2
}
